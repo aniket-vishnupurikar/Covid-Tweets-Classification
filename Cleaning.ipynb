{
 "cells": [
  {
   "cell_type": "code",
   "execution_count": 125,
   "id": "233fe16d",
   "metadata": {},
   "outputs": [],
   "source": [
    "import numpy as np\n",
    "import pandas as pd\n",
    "import matplotlib.pyplot as plt\n",
    "import seaborn as sns\n",
    "import datetime\n",
    "import re\n",
    "from tqdm import tqdm\n",
    "%matplotlib inline"
   ]
  },
  {
   "cell_type": "code",
   "execution_count": 66,
   "id": "8baeec2e",
   "metadata": {},
   "outputs": [
    {
     "data": {
      "text/plain": [
       "{'encoding': 'utf-8', 'confidence': 0.99, 'language': ''}"
      ]
     },
     "execution_count": 66,
     "metadata": {},
     "output_type": "execute_result"
    }
   ],
   "source": [
    "import chardet\n",
    "with open(\"Corona_NLP_train.csv\", 'rb') as rawdata:\n",
    "    result = chardet.detect(rawdata.read(100000))\n",
    "result"
   ]
  },
  {
   "cell_type": "code",
   "execution_count": 67,
   "id": "c21859aa",
   "metadata": {
    "scrolled": true
   },
   "outputs": [],
   "source": [
    "train_df = pd.read_csv(\"Corona_NLP_train.csv\", encoding = \"latin1\")\n",
    "test_df = pd.read_csv(\"Corona_NLP_test.csv\", encoding = \"latin1\")"
   ]
  },
  {
   "cell_type": "code",
   "execution_count": 68,
   "id": "d1031d88",
   "metadata": {},
   "outputs": [
    {
     "data": {
      "text/html": [
       "<div>\n",
       "<style scoped>\n",
       "    .dataframe tbody tr th:only-of-type {\n",
       "        vertical-align: middle;\n",
       "    }\n",
       "\n",
       "    .dataframe tbody tr th {\n",
       "        vertical-align: top;\n",
       "    }\n",
       "\n",
       "    .dataframe thead th {\n",
       "        text-align: right;\n",
       "    }\n",
       "</style>\n",
       "<table border=\"1\" class=\"dataframe\">\n",
       "  <thead>\n",
       "    <tr style=\"text-align: right;\">\n",
       "      <th></th>\n",
       "      <th>UserName</th>\n",
       "      <th>ScreenName</th>\n",
       "      <th>Location</th>\n",
       "      <th>TweetAt</th>\n",
       "      <th>OriginalTweet</th>\n",
       "      <th>Sentiment</th>\n",
       "    </tr>\n",
       "  </thead>\n",
       "  <tbody>\n",
       "    <tr>\n",
       "      <th>0</th>\n",
       "      <td>3799</td>\n",
       "      <td>48751</td>\n",
       "      <td>London</td>\n",
       "      <td>16-03-2020</td>\n",
       "      <td>@MeNyrbie @Phil_Gahan @Chrisitv https://t.co/i...</td>\n",
       "      <td>Neutral</td>\n",
       "    </tr>\n",
       "    <tr>\n",
       "      <th>1</th>\n",
       "      <td>3800</td>\n",
       "      <td>48752</td>\n",
       "      <td>UK</td>\n",
       "      <td>16-03-2020</td>\n",
       "      <td>advice Talk to your neighbours family to excha...</td>\n",
       "      <td>Positive</td>\n",
       "    </tr>\n",
       "    <tr>\n",
       "      <th>2</th>\n",
       "      <td>3801</td>\n",
       "      <td>48753</td>\n",
       "      <td>Vagabonds</td>\n",
       "      <td>16-03-2020</td>\n",
       "      <td>Coronavirus Australia: Woolworths to give elde...</td>\n",
       "      <td>Positive</td>\n",
       "    </tr>\n",
       "    <tr>\n",
       "      <th>3</th>\n",
       "      <td>3802</td>\n",
       "      <td>48754</td>\n",
       "      <td>NaN</td>\n",
       "      <td>16-03-2020</td>\n",
       "      <td>My food stock is not the only one which is emp...</td>\n",
       "      <td>Positive</td>\n",
       "    </tr>\n",
       "    <tr>\n",
       "      <th>4</th>\n",
       "      <td>3803</td>\n",
       "      <td>48755</td>\n",
       "      <td>NaN</td>\n",
       "      <td>16-03-2020</td>\n",
       "      <td>Me, ready to go at supermarket during the #COV...</td>\n",
       "      <td>Extremely Negative</td>\n",
       "    </tr>\n",
       "  </tbody>\n",
       "</table>\n",
       "</div>"
      ],
      "text/plain": [
       "   UserName  ScreenName   Location     TweetAt  \\\n",
       "0      3799       48751     London  16-03-2020   \n",
       "1      3800       48752         UK  16-03-2020   \n",
       "2      3801       48753  Vagabonds  16-03-2020   \n",
       "3      3802       48754        NaN  16-03-2020   \n",
       "4      3803       48755        NaN  16-03-2020   \n",
       "\n",
       "                                       OriginalTweet           Sentiment  \n",
       "0  @MeNyrbie @Phil_Gahan @Chrisitv https://t.co/i...             Neutral  \n",
       "1  advice Talk to your neighbours family to excha...            Positive  \n",
       "2  Coronavirus Australia: Woolworths to give elde...            Positive  \n",
       "3  My food stock is not the only one which is emp...            Positive  \n",
       "4  Me, ready to go at supermarket during the #COV...  Extremely Negative  "
      ]
     },
     "execution_count": 68,
     "metadata": {},
     "output_type": "execute_result"
    }
   ],
   "source": [
    "train_df.head()"
   ]
  },
  {
   "cell_type": "code",
   "execution_count": 69,
   "id": "8f1c0677",
   "metadata": {},
   "outputs": [
    {
     "name": "stdout",
     "output_type": "stream",
     "text": [
      "Number of rows: 41157\n",
      "Number of columns: 6\n"
     ]
    }
   ],
   "source": [
    "print(\"Number of rows: {}\\nNumber of columns: {}\".format(train_df.shape[0], train_df.shape[1]))"
   ]
  },
  {
   "cell_type": "code",
   "execution_count": 70,
   "id": "24fe6b7b",
   "metadata": {},
   "outputs": [
    {
     "name": "stdout",
     "output_type": "stream",
     "text": [
      "<class 'pandas.core.frame.DataFrame'>\n",
      "RangeIndex: 41157 entries, 0 to 41156\n",
      "Data columns (total 6 columns):\n",
      " #   Column         Non-Null Count  Dtype \n",
      "---  ------         --------------  ----- \n",
      " 0   UserName       41157 non-null  int64 \n",
      " 1   ScreenName     41157 non-null  int64 \n",
      " 2   Location       32567 non-null  object\n",
      " 3   TweetAt        41157 non-null  object\n",
      " 4   OriginalTweet  41157 non-null  object\n",
      " 5   Sentiment      41157 non-null  object\n",
      "dtypes: int64(2), object(4)\n",
      "memory usage: 1.9+ MB\n"
     ]
    }
   ],
   "source": [
    "train_df.info()"
   ]
  },
  {
   "cell_type": "code",
   "execution_count": 71,
   "id": "088912f5",
   "metadata": {},
   "outputs": [
    {
     "data": {
      "text/plain": [
       "UserName            0\n",
       "ScreenName          0\n",
       "Location         8590\n",
       "TweetAt             0\n",
       "OriginalTweet       0\n",
       "Sentiment           0\n",
       "dtype: int64"
      ]
     },
     "execution_count": 71,
     "metadata": {},
     "output_type": "execute_result"
    }
   ],
   "source": [
    "train_df.isnull().sum()"
   ]
  },
  {
   "cell_type": "code",
   "execution_count": 72,
   "id": "9edf056c",
   "metadata": {},
   "outputs": [
    {
     "name": "stdout",
     "output_type": "stream",
     "text": [
      "Perc. of null values in Location column: 20.87129771363316\n"
     ]
    }
   ],
   "source": [
    "x = (train_df.isnull().sum()[\"Location\"]/train_df.shape[0])*100\n",
    "print(\"Perc. of null values in Location column: {}\".format(x))"
   ]
  },
  {
   "cell_type": "code",
   "execution_count": 73,
   "id": "618c7320",
   "metadata": {},
   "outputs": [],
   "source": [
    "null_df = train_df[train_df[\"Location\"].isnull()] "
   ]
  },
  {
   "cell_type": "code",
   "execution_count": 74,
   "id": "44a7a4de",
   "metadata": {},
   "outputs": [
    {
     "data": {
      "text/html": [
       "<div>\n",
       "<style scoped>\n",
       "    .dataframe tbody tr th:only-of-type {\n",
       "        vertical-align: middle;\n",
       "    }\n",
       "\n",
       "    .dataframe tbody tr th {\n",
       "        vertical-align: top;\n",
       "    }\n",
       "\n",
       "    .dataframe thead th {\n",
       "        text-align: right;\n",
       "    }\n",
       "</style>\n",
       "<table border=\"1\" class=\"dataframe\">\n",
       "  <thead>\n",
       "    <tr style=\"text-align: right;\">\n",
       "      <th></th>\n",
       "      <th>UserName</th>\n",
       "      <th>ScreenName</th>\n",
       "      <th>Location</th>\n",
       "      <th>TweetAt</th>\n",
       "      <th>OriginalTweet</th>\n",
       "      <th>Sentiment</th>\n",
       "    </tr>\n",
       "  </thead>\n",
       "  <tbody>\n",
       "    <tr>\n",
       "      <th>3</th>\n",
       "      <td>3802</td>\n",
       "      <td>48754</td>\n",
       "      <td>NaN</td>\n",
       "      <td>16-03-2020</td>\n",
       "      <td>My food stock is not the only one which is emp...</td>\n",
       "      <td>Positive</td>\n",
       "    </tr>\n",
       "    <tr>\n",
       "      <th>4</th>\n",
       "      <td>3803</td>\n",
       "      <td>48755</td>\n",
       "      <td>NaN</td>\n",
       "      <td>16-03-2020</td>\n",
       "      <td>Me, ready to go at supermarket during the #COV...</td>\n",
       "      <td>Extremely Negative</td>\n",
       "    </tr>\n",
       "    <tr>\n",
       "      <th>14</th>\n",
       "      <td>3813</td>\n",
       "      <td>48765</td>\n",
       "      <td>NaN</td>\n",
       "      <td>16-03-2020</td>\n",
       "      <td>ADARA Releases COVID-19 Resource Center for Tr...</td>\n",
       "      <td>Positive</td>\n",
       "    </tr>\n",
       "    <tr>\n",
       "      <th>22</th>\n",
       "      <td>3821</td>\n",
       "      <td>48773</td>\n",
       "      <td>NaN</td>\n",
       "      <td>16-03-2020</td>\n",
       "      <td>We have AMAZING CHEAP DEALS! FOR THE #COVID201...</td>\n",
       "      <td>Extremely Positive</td>\n",
       "    </tr>\n",
       "    <tr>\n",
       "      <th>23</th>\n",
       "      <td>3822</td>\n",
       "      <td>48774</td>\n",
       "      <td>NaN</td>\n",
       "      <td>16-03-2020</td>\n",
       "      <td>We have AMAZING CHEAP DEALS! FOR THE #COVID201...</td>\n",
       "      <td>Extremely Positive</td>\n",
       "    </tr>\n",
       "  </tbody>\n",
       "</table>\n",
       "</div>"
      ],
      "text/plain": [
       "    UserName  ScreenName Location     TweetAt  \\\n",
       "3       3802       48754      NaN  16-03-2020   \n",
       "4       3803       48755      NaN  16-03-2020   \n",
       "14      3813       48765      NaN  16-03-2020   \n",
       "22      3821       48773      NaN  16-03-2020   \n",
       "23      3822       48774      NaN  16-03-2020   \n",
       "\n",
       "                                        OriginalTweet           Sentiment  \n",
       "3   My food stock is not the only one which is emp...            Positive  \n",
       "4   Me, ready to go at supermarket during the #COV...  Extremely Negative  \n",
       "14  ADARA Releases COVID-19 Resource Center for Tr...            Positive  \n",
       "22  We have AMAZING CHEAP DEALS! FOR THE #COVID201...  Extremely Positive  \n",
       "23  We have AMAZING CHEAP DEALS! FOR THE #COVID201...  Extremely Positive  "
      ]
     },
     "execution_count": 74,
     "metadata": {},
     "output_type": "execute_result"
    }
   ],
   "source": [
    "null_df.head()"
   ]
  },
  {
   "cell_type": "code",
   "execution_count": 75,
   "id": "ae8db791",
   "metadata": {},
   "outputs": [],
   "source": [
    "non_null_df = train_df[~train_df[\"Location\"].isnull()] "
   ]
  },
  {
   "cell_type": "code",
   "execution_count": 76,
   "id": "64f38f48",
   "metadata": {},
   "outputs": [],
   "source": [
    "user_screen_mapping = dict(non_null_df[[\"UserName\", \"ScreenName\"]].values)"
   ]
  },
  {
   "cell_type": "code",
   "execution_count": 77,
   "id": "f7cb19c6",
   "metadata": {},
   "outputs": [
    {
     "data": {
      "text/plain": [
       "32567"
      ]
     },
     "execution_count": 77,
     "metadata": {},
     "output_type": "execute_result"
    }
   ],
   "source": [
    "len(user_screen_mapping)"
   ]
  },
  {
   "cell_type": "code",
   "execution_count": 78,
   "id": "e4673339",
   "metadata": {},
   "outputs": [
    {
     "data": {
      "text/plain": [
       "(32567, 6)"
      ]
     },
     "execution_count": 78,
     "metadata": {},
     "output_type": "execute_result"
    }
   ],
   "source": [
    "non_null_df.shape"
   ]
  },
  {
   "cell_type": "code",
   "execution_count": 79,
   "id": "c1c21fbc",
   "metadata": {},
   "outputs": [
    {
     "data": {
      "text/plain": [
       "UserName      32567\n",
       "ScreenName    32567\n",
       "dtype: int64"
      ]
     },
     "execution_count": 79,
     "metadata": {},
     "output_type": "execute_result"
    }
   ],
   "source": [
    "non_null_df[[\"UserName\", \"ScreenName\"]].nunique()"
   ]
  },
  {
   "cell_type": "markdown",
   "id": "8378ea5f",
   "metadata": {},
   "source": [
    "UserName and ScreenName has one-to-one relationship"
   ]
  },
  {
   "cell_type": "code",
   "execution_count": 80,
   "id": "af7cc7fe",
   "metadata": {},
   "outputs": [],
   "source": [
    "user_location_mapping = dict(non_null_df[[\"UserName\", \"Location\"]].values)"
   ]
  },
  {
   "cell_type": "code",
   "execution_count": 81,
   "id": "5156f90f",
   "metadata": {},
   "outputs": [
    {
     "data": {
      "text/html": [
       "<div>\n",
       "<style scoped>\n",
       "    .dataframe tbody tr th:only-of-type {\n",
       "        vertical-align: middle;\n",
       "    }\n",
       "\n",
       "    .dataframe tbody tr th {\n",
       "        vertical-align: top;\n",
       "    }\n",
       "\n",
       "    .dataframe thead th {\n",
       "        text-align: right;\n",
       "    }\n",
       "</style>\n",
       "<table border=\"1\" class=\"dataframe\">\n",
       "  <thead>\n",
       "    <tr style=\"text-align: right;\">\n",
       "      <th></th>\n",
       "      <th>UserName</th>\n",
       "      <th>ScreenName</th>\n",
       "      <th>Location</th>\n",
       "      <th>TweetAt</th>\n",
       "      <th>OriginalTweet</th>\n",
       "      <th>Sentiment</th>\n",
       "    </tr>\n",
       "  </thead>\n",
       "  <tbody>\n",
       "    <tr>\n",
       "      <th>0</th>\n",
       "      <td>3799</td>\n",
       "      <td>48751</td>\n",
       "      <td>London</td>\n",
       "      <td>16-03-2020</td>\n",
       "      <td>@MeNyrbie @Phil_Gahan @Chrisitv https://t.co/i...</td>\n",
       "      <td>Neutral</td>\n",
       "    </tr>\n",
       "    <tr>\n",
       "      <th>1</th>\n",
       "      <td>3800</td>\n",
       "      <td>48752</td>\n",
       "      <td>UK</td>\n",
       "      <td>16-03-2020</td>\n",
       "      <td>advice Talk to your neighbours family to excha...</td>\n",
       "      <td>Positive</td>\n",
       "    </tr>\n",
       "    <tr>\n",
       "      <th>2</th>\n",
       "      <td>3801</td>\n",
       "      <td>48753</td>\n",
       "      <td>Vagabonds</td>\n",
       "      <td>16-03-2020</td>\n",
       "      <td>Coronavirus Australia: Woolworths to give elde...</td>\n",
       "      <td>Positive</td>\n",
       "    </tr>\n",
       "    <tr>\n",
       "      <th>5</th>\n",
       "      <td>3804</td>\n",
       "      <td>48756</td>\n",
       "      <td>ÃT: 36.319708,-82.363649</td>\n",
       "      <td>16-03-2020</td>\n",
       "      <td>As news of the regionÂs first confirmed COVID...</td>\n",
       "      <td>Positive</td>\n",
       "    </tr>\n",
       "    <tr>\n",
       "      <th>6</th>\n",
       "      <td>3805</td>\n",
       "      <td>48757</td>\n",
       "      <td>35.926541,-78.753267</td>\n",
       "      <td>16-03-2020</td>\n",
       "      <td>Cashier at grocery store was sharing his insig...</td>\n",
       "      <td>Positive</td>\n",
       "    </tr>\n",
       "    <tr>\n",
       "      <th>...</th>\n",
       "      <td>...</td>\n",
       "      <td>...</td>\n",
       "      <td>...</td>\n",
       "      <td>...</td>\n",
       "      <td>...</td>\n",
       "      <td>...</td>\n",
       "    </tr>\n",
       "    <tr>\n",
       "      <th>41147</th>\n",
       "      <td>44946</td>\n",
       "      <td>89898</td>\n",
       "      <td>Brooklyn, NY</td>\n",
       "      <td>14-04-2020</td>\n",
       "      <td>YÂall really shitting that much more at home?...</td>\n",
       "      <td>Negative</td>\n",
       "    </tr>\n",
       "    <tr>\n",
       "      <th>41149</th>\n",
       "      <td>44948</td>\n",
       "      <td>89900</td>\n",
       "      <td>Toronto, Ontario</td>\n",
       "      <td>14-04-2020</td>\n",
       "      <td>Still shocked by the number of #Toronto superm...</td>\n",
       "      <td>Negative</td>\n",
       "    </tr>\n",
       "    <tr>\n",
       "      <th>41150</th>\n",
       "      <td>44949</td>\n",
       "      <td>89901</td>\n",
       "      <td>OHIO</td>\n",
       "      <td>14-04-2020</td>\n",
       "      <td>I never that weÂd be in a situation &amp;amp; wor...</td>\n",
       "      <td>Positive</td>\n",
       "    </tr>\n",
       "    <tr>\n",
       "      <th>41152</th>\n",
       "      <td>44951</td>\n",
       "      <td>89903</td>\n",
       "      <td>Wellington City, New Zealand</td>\n",
       "      <td>14-04-2020</td>\n",
       "      <td>Airline pilots offering to stock supermarket s...</td>\n",
       "      <td>Neutral</td>\n",
       "    </tr>\n",
       "    <tr>\n",
       "      <th>41156</th>\n",
       "      <td>44955</td>\n",
       "      <td>89907</td>\n",
       "      <td>i love you so much || he/him</td>\n",
       "      <td>14-04-2020</td>\n",
       "      <td>@TartiiCat Well new/used Rift S are going for ...</td>\n",
       "      <td>Negative</td>\n",
       "    </tr>\n",
       "  </tbody>\n",
       "</table>\n",
       "<p>32567 rows × 6 columns</p>\n",
       "</div>"
      ],
      "text/plain": [
       "       UserName  ScreenName                      Location     TweetAt  \\\n",
       "0          3799       48751                        London  16-03-2020   \n",
       "1          3800       48752                            UK  16-03-2020   \n",
       "2          3801       48753                     Vagabonds  16-03-2020   \n",
       "5          3804       48756     ÃT: 36.319708,-82.363649  16-03-2020   \n",
       "6          3805       48757          35.926541,-78.753267  16-03-2020   \n",
       "...         ...         ...                           ...         ...   \n",
       "41147     44946       89898                  Brooklyn, NY  14-04-2020   \n",
       "41149     44948       89900              Toronto, Ontario  14-04-2020   \n",
       "41150     44949       89901                          OHIO  14-04-2020   \n",
       "41152     44951       89903  Wellington City, New Zealand  14-04-2020   \n",
       "41156     44955       89907  i love you so much || he/him  14-04-2020   \n",
       "\n",
       "                                           OriginalTweet Sentiment  \n",
       "0      @MeNyrbie @Phil_Gahan @Chrisitv https://t.co/i...   Neutral  \n",
       "1      advice Talk to your neighbours family to excha...  Positive  \n",
       "2      Coronavirus Australia: Woolworths to give elde...  Positive  \n",
       "5      As news of the regionÂs first confirmed COVID...  Positive  \n",
       "6      Cashier at grocery store was sharing his insig...  Positive  \n",
       "...                                                  ...       ...  \n",
       "41147  YÂall really shitting that much more at home?...  Negative  \n",
       "41149  Still shocked by the number of #Toronto superm...  Negative  \n",
       "41150  I never that weÂd be in a situation &amp; wor...  Positive  \n",
       "41152  Airline pilots offering to stock supermarket s...   Neutral  \n",
       "41156  @TartiiCat Well new/used Rift S are going for ...  Negative  \n",
       "\n",
       "[32567 rows x 6 columns]"
      ]
     },
     "execution_count": 81,
     "metadata": {},
     "output_type": "execute_result"
    }
   ],
   "source": [
    "non_null_df"
   ]
  },
  {
   "cell_type": "code",
   "execution_count": 82,
   "id": "f7a0c0db",
   "metadata": {},
   "outputs": [
    {
     "data": {
      "text/plain": [
       "'Vagabonds'"
      ]
     },
     "execution_count": 82,
     "metadata": {},
     "output_type": "execute_result"
    }
   ],
   "source": [
    "user_location_mapping[3801]"
   ]
  },
  {
   "cell_type": "code",
   "execution_count": 83,
   "id": "95411b81",
   "metadata": {},
   "outputs": [],
   "source": [
    "users_with_location = set(non_null_df['UserName'].values)"
   ]
  },
  {
   "cell_type": "code",
   "execution_count": 84,
   "id": "601380fa",
   "metadata": {},
   "outputs": [],
   "source": [
    "users_without_location = set(null_df['UserName'].values)"
   ]
  },
  {
   "cell_type": "code",
   "execution_count": 85,
   "id": "19ae4027",
   "metadata": {},
   "outputs": [
    {
     "data": {
      "text/plain": [
       "set()"
      ]
     },
     "execution_count": 85,
     "metadata": {},
     "output_type": "execute_result"
    }
   ],
   "source": [
    "users_without_location.intersection(users_with_location)"
   ]
  },
  {
   "cell_type": "code",
   "execution_count": 86,
   "id": "861c3cf6",
   "metadata": {},
   "outputs": [
    {
     "data": {
      "text/plain": [
       "set()"
      ]
     },
     "execution_count": 86,
     "metadata": {},
     "output_type": "execute_result"
    }
   ],
   "source": [
    "s1 = {1,2,3,4}\n",
    "s2 = {5,6,7,8}\n",
    "s1.intersection(s2)"
   ]
  },
  {
   "cell_type": "markdown",
   "id": "bed61ea1",
   "metadata": {},
   "source": [
    "Location column, though it may be useful in classification, it has 20 perc. missing values and rest of the values are unclean so dropping it for now."
   ]
  },
  {
   "cell_type": "code",
   "execution_count": 89,
   "id": "5da51e6f",
   "metadata": {},
   "outputs": [
    {
     "data": {
      "text/html": [
       "<div>\n",
       "<style scoped>\n",
       "    .dataframe tbody tr th:only-of-type {\n",
       "        vertical-align: middle;\n",
       "    }\n",
       "\n",
       "    .dataframe tbody tr th {\n",
       "        vertical-align: top;\n",
       "    }\n",
       "\n",
       "    .dataframe thead th {\n",
       "        text-align: right;\n",
       "    }\n",
       "</style>\n",
       "<table border=\"1\" class=\"dataframe\">\n",
       "  <thead>\n",
       "    <tr style=\"text-align: right;\">\n",
       "      <th></th>\n",
       "      <th>UserName</th>\n",
       "      <th>ScreenName</th>\n",
       "      <th>Location</th>\n",
       "      <th>TweetAt</th>\n",
       "      <th>OriginalTweet</th>\n",
       "      <th>Sentiment</th>\n",
       "    </tr>\n",
       "  </thead>\n",
       "  <tbody>\n",
       "    <tr>\n",
       "      <th>0</th>\n",
       "      <td>3799</td>\n",
       "      <td>48751</td>\n",
       "      <td>London</td>\n",
       "      <td>16-03-2020</td>\n",
       "      <td>@MeNyrbie @Phil_Gahan @Chrisitv https://t.co/i...</td>\n",
       "      <td>Neutral</td>\n",
       "    </tr>\n",
       "    <tr>\n",
       "      <th>1</th>\n",
       "      <td>3800</td>\n",
       "      <td>48752</td>\n",
       "      <td>UK</td>\n",
       "      <td>16-03-2020</td>\n",
       "      <td>advice Talk to your neighbours family to excha...</td>\n",
       "      <td>Positive</td>\n",
       "    </tr>\n",
       "    <tr>\n",
       "      <th>2</th>\n",
       "      <td>3801</td>\n",
       "      <td>48753</td>\n",
       "      <td>Vagabonds</td>\n",
       "      <td>16-03-2020</td>\n",
       "      <td>Coronavirus Australia: Woolworths to give elde...</td>\n",
       "      <td>Positive</td>\n",
       "    </tr>\n",
       "    <tr>\n",
       "      <th>3</th>\n",
       "      <td>3802</td>\n",
       "      <td>48754</td>\n",
       "      <td>NaN</td>\n",
       "      <td>16-03-2020</td>\n",
       "      <td>My food stock is not the only one which is emp...</td>\n",
       "      <td>Positive</td>\n",
       "    </tr>\n",
       "    <tr>\n",
       "      <th>4</th>\n",
       "      <td>3803</td>\n",
       "      <td>48755</td>\n",
       "      <td>NaN</td>\n",
       "      <td>16-03-2020</td>\n",
       "      <td>Me, ready to go at supermarket during the #COV...</td>\n",
       "      <td>Extremely Negative</td>\n",
       "    </tr>\n",
       "    <tr>\n",
       "      <th>...</th>\n",
       "      <td>...</td>\n",
       "      <td>...</td>\n",
       "      <td>...</td>\n",
       "      <td>...</td>\n",
       "      <td>...</td>\n",
       "      <td>...</td>\n",
       "    </tr>\n",
       "    <tr>\n",
       "      <th>41152</th>\n",
       "      <td>44951</td>\n",
       "      <td>89903</td>\n",
       "      <td>Wellington City, New Zealand</td>\n",
       "      <td>14-04-2020</td>\n",
       "      <td>Airline pilots offering to stock supermarket s...</td>\n",
       "      <td>Neutral</td>\n",
       "    </tr>\n",
       "    <tr>\n",
       "      <th>41153</th>\n",
       "      <td>44952</td>\n",
       "      <td>89904</td>\n",
       "      <td>NaN</td>\n",
       "      <td>14-04-2020</td>\n",
       "      <td>Response to complaint not provided citing COVI...</td>\n",
       "      <td>Extremely Negative</td>\n",
       "    </tr>\n",
       "    <tr>\n",
       "      <th>41154</th>\n",
       "      <td>44953</td>\n",
       "      <td>89905</td>\n",
       "      <td>NaN</td>\n",
       "      <td>14-04-2020</td>\n",
       "      <td>You know itÂs getting tough when @KameronWild...</td>\n",
       "      <td>Positive</td>\n",
       "    </tr>\n",
       "    <tr>\n",
       "      <th>41155</th>\n",
       "      <td>44954</td>\n",
       "      <td>89906</td>\n",
       "      <td>NaN</td>\n",
       "      <td>14-04-2020</td>\n",
       "      <td>Is it wrong that the smell of hand sanitizer i...</td>\n",
       "      <td>Neutral</td>\n",
       "    </tr>\n",
       "    <tr>\n",
       "      <th>41156</th>\n",
       "      <td>44955</td>\n",
       "      <td>89907</td>\n",
       "      <td>i love you so much || he/him</td>\n",
       "      <td>14-04-2020</td>\n",
       "      <td>@TartiiCat Well new/used Rift S are going for ...</td>\n",
       "      <td>Negative</td>\n",
       "    </tr>\n",
       "  </tbody>\n",
       "</table>\n",
       "<p>41157 rows × 6 columns</p>\n",
       "</div>"
      ],
      "text/plain": [
       "       UserName  ScreenName                      Location     TweetAt  \\\n",
       "0          3799       48751                        London  16-03-2020   \n",
       "1          3800       48752                            UK  16-03-2020   \n",
       "2          3801       48753                     Vagabonds  16-03-2020   \n",
       "3          3802       48754                           NaN  16-03-2020   \n",
       "4          3803       48755                           NaN  16-03-2020   \n",
       "...         ...         ...                           ...         ...   \n",
       "41152     44951       89903  Wellington City, New Zealand  14-04-2020   \n",
       "41153     44952       89904                           NaN  14-04-2020   \n",
       "41154     44953       89905                           NaN  14-04-2020   \n",
       "41155     44954       89906                           NaN  14-04-2020   \n",
       "41156     44955       89907  i love you so much || he/him  14-04-2020   \n",
       "\n",
       "                                           OriginalTweet           Sentiment  \n",
       "0      @MeNyrbie @Phil_Gahan @Chrisitv https://t.co/i...             Neutral  \n",
       "1      advice Talk to your neighbours family to excha...            Positive  \n",
       "2      Coronavirus Australia: Woolworths to give elde...            Positive  \n",
       "3      My food stock is not the only one which is emp...            Positive  \n",
       "4      Me, ready to go at supermarket during the #COV...  Extremely Negative  \n",
       "...                                                  ...                 ...  \n",
       "41152  Airline pilots offering to stock supermarket s...             Neutral  \n",
       "41153  Response to complaint not provided citing COVI...  Extremely Negative  \n",
       "41154  You know itÂs getting tough when @KameronWild...            Positive  \n",
       "41155  Is it wrong that the smell of hand sanitizer i...             Neutral  \n",
       "41156  @TartiiCat Well new/used Rift S are going for ...            Negative  \n",
       "\n",
       "[41157 rows x 6 columns]"
      ]
     },
     "execution_count": 89,
     "metadata": {},
     "output_type": "execute_result"
    }
   ],
   "source": [
    "train_df"
   ]
  },
  {
   "cell_type": "code",
   "execution_count": 90,
   "id": "732f18d6",
   "metadata": {},
   "outputs": [],
   "source": [
    "to_keep = [\"OriginalTweet\", \"Sentiment\"]\n",
    "train_df = train_df[to_keep]\n",
    "test_df = test_df[to_keep]"
   ]
  },
  {
   "cell_type": "code",
   "execution_count": 179,
   "id": "cfb7affb",
   "metadata": {},
   "outputs": [],
   "source": [
    "def preprocess(df):\n",
    "    \"\"\"This function accepts a pandas dataframe containing a column of OriginalTweets and output the processed dataframe\"\"\"\n",
    "    \n",
    "    #Convert to lower\n",
    "    df[\"OriginatTweet\"] = df[\"OriginalTweet\"].apply(str.lower)\n",
    "    #extract hasgtags and tags, join them by empty space and store them\n",
    "    def extract_hashtags(s):\n",
    "        hashtags = re.findall(r\"#(\\w+)\", s)\n",
    "        ats = re.findall(r\"@(\\w+)\", s)\n",
    "        return hashtags, ats\n",
    "    \n",
    "    tweets = df[\"OriginalTweet\"].values\n",
    "    hashtags = []\n",
    "    tags = []\n",
    "    for tweet in tqdm(tweets):\n",
    "        h,a = extract_hashtags(tweet)\n",
    "        hashtags.append(\" \".join(h))\n",
    "        tags.append(\" \".join(a))\n",
    "    \n",
    "    df[\"hashtags\"] = hashtags\n",
    "    df[\"tags\"] = tags\n",
    "    \n",
    "    # https://stackoverflow.com/a/47091490/4084039\n",
    "    import re\n",
    "\n",
    "    def decontracted(phrase):\n",
    "        # specific\n",
    "        phrase = re.sub(r\"won't\", \"will not\", phrase)\n",
    "        phrase = re.sub(r\"can\\'t\", \"can not\", phrase)\n",
    "\n",
    "        # general\n",
    "        phrase = re.sub(r\"n\\'t\", \" not\", phrase)\n",
    "        phrase = re.sub(r\"\\'re\", \" are\", phrase)\n",
    "        phrase = re.sub(r\"\\'s\", \" is\", phrase)\n",
    "        phrase = re.sub(r\"\\'d\", \" would\", phrase)\n",
    "        phrase = re.sub(r\"\\'ll\", \" will\", phrase)\n",
    "        phrase = re.sub(r\"\\'t\", \" not\", phrase)\n",
    "        phrase = re.sub(r\"\\'ve\", \" have\", phrase)\n",
    "        phrase = re.sub(r\"\\'m\", \" am\", phrase)\n",
    "        return phrase\n",
    "    \n",
    "    # Combining all the above stundents \n",
    "    from tqdm import tqdm\n",
    "    def preprocess_text(text_data):\n",
    "        preprocessed_text = []\n",
    "        # tqdm is for printing the status bar\n",
    "        for sentence in tqdm(text_data):\n",
    "            if type(sentence) != str:\n",
    "                sent = ' '\n",
    "            else:\n",
    "                sent = re.sub(r'http\\S+', '', sentence) #remove url\n",
    "                sent = decontracted(sent) #decontract\n",
    "                sent = sent.replace('\\\\r', ' ') \n",
    "                sent = sent.replace('\\\\n', ' ')\n",
    "                sent = sent.replace('\\\\\"', ' ')\n",
    "                sent = re.sub('[^A-Za-z0-9]+', ' ', sent) #remove anythong non-alphanumeric\n",
    "\n",
    "            # https://gist.github.com/sebleier/554280\n",
    "            sent = ' '.join(e for e in sent.split())\n",
    "            preprocessed_text.append(sent.lower().strip())\n",
    "        return preprocessed_text\n",
    "    \n",
    "    preprocessed_tweets = preprocess_text(tweets)\n",
    "    \n",
    "    df[\"preprocessed tweets\"] = preprocessed_tweets\n",
    "    return df\n",
    "    \n",
    "\n",
    "    "
   ]
  },
  {
   "cell_type": "code",
   "execution_count": 99,
   "id": "4bfa5ce1",
   "metadata": {},
   "outputs": [
    {
     "name": "stderr",
     "output_type": "stream",
     "text": [
      "C:\\Users\\anike\\.conda\\envs\\tf_test\\lib\\site-packages\\ipykernel_launcher.py:1: SettingWithCopyWarning: \n",
      "A value is trying to be set on a copy of a slice from a DataFrame.\n",
      "Try using .loc[row_indexer,col_indexer] = value instead\n",
      "\n",
      "See the caveats in the documentation: https://pandas.pydata.org/pandas-docs/stable/user_guide/indexing.html#returning-a-view-versus-a-copy\n",
      "  \"\"\"Entry point for launching an IPython kernel.\n"
     ]
    }
   ],
   "source": [
    "train_df[\"OriginalTweet\"] = train_df[\"OriginalTweet\"].apply(str.lower)"
   ]
  },
  {
   "cell_type": "code",
   "execution_count": 104,
   "id": "050a87f4",
   "metadata": {},
   "outputs": [
    {
     "data": {
      "text/plain": [
       "array(['Neutral', 'Positive', 'Extremely Negative', 'Negative',\n",
       "       'Extremely Positive'], dtype=object)"
      ]
     },
     "execution_count": 104,
     "metadata": {},
     "output_type": "execute_result"
    }
   ],
   "source": [
    "train_df[\"Sentiment\"].unique()"
   ]
  },
  {
   "cell_type": "code",
   "execution_count": 106,
   "id": "c2080fe5",
   "metadata": {},
   "outputs": [],
   "source": [
    "target_proportions = train_df.groupby(\"Sentiment\").count()"
   ]
  },
  {
   "cell_type": "markdown",
   "id": "afc9ee15",
   "metadata": {},
   "source": [
    "Precision, recall, f1 score"
   ]
  },
  {
   "cell_type": "code",
   "execution_count": 107,
   "id": "19a1b46d",
   "metadata": {},
   "outputs": [
    {
     "data": {
      "text/html": [
       "<div>\n",
       "<style scoped>\n",
       "    .dataframe tbody tr th:only-of-type {\n",
       "        vertical-align: middle;\n",
       "    }\n",
       "\n",
       "    .dataframe tbody tr th {\n",
       "        vertical-align: top;\n",
       "    }\n",
       "\n",
       "    .dataframe thead th {\n",
       "        text-align: right;\n",
       "    }\n",
       "</style>\n",
       "<table border=\"1\" class=\"dataframe\">\n",
       "  <thead>\n",
       "    <tr style=\"text-align: right;\">\n",
       "      <th></th>\n",
       "      <th>OriginalTweet</th>\n",
       "    </tr>\n",
       "    <tr>\n",
       "      <th>Sentiment</th>\n",
       "      <th></th>\n",
       "    </tr>\n",
       "  </thead>\n",
       "  <tbody>\n",
       "    <tr>\n",
       "      <th>Extremely Negative</th>\n",
       "      <td>5481</td>\n",
       "    </tr>\n",
       "    <tr>\n",
       "      <th>Extremely Positive</th>\n",
       "      <td>6624</td>\n",
       "    </tr>\n",
       "    <tr>\n",
       "      <th>Negative</th>\n",
       "      <td>9917</td>\n",
       "    </tr>\n",
       "    <tr>\n",
       "      <th>Neutral</th>\n",
       "      <td>7713</td>\n",
       "    </tr>\n",
       "    <tr>\n",
       "      <th>Positive</th>\n",
       "      <td>11422</td>\n",
       "    </tr>\n",
       "  </tbody>\n",
       "</table>\n",
       "</div>"
      ],
      "text/plain": [
       "                    OriginalTweet\n",
       "Sentiment                        \n",
       "Extremely Negative           5481\n",
       "Extremely Positive           6624\n",
       "Negative                     9917\n",
       "Neutral                      7713\n",
       "Positive                    11422"
      ]
     },
     "execution_count": 107,
     "metadata": {},
     "output_type": "execute_result"
    }
   ],
   "source": [
    "target_proportions"
   ]
  },
  {
   "cell_type": "code",
   "execution_count": 109,
   "id": "a5cc7ad2",
   "metadata": {},
   "outputs": [
    {
     "data": {
      "image/png": "[encoded data removed]",
      "text/plain": [
       "<Figure size 432x288 with 1 Axes>"
      ]
     },
     "metadata": {},
     "output_type": "display_data"
    }
   ],
   "source": [
    "data = target_proportions[\"OriginalTweet\"].values\n",
    "keys = target_proportions.index \n",
    "plt.pie(data, labels = keys)\n",
    "plt.show()"
   ]
  },
  {
   "cell_type": "code",
   "execution_count": 113,
   "id": "aaec908c",
   "metadata": {},
   "outputs": [],
   "source": [
    "idxs = np.random.randint(0, 41156, 10)"
   ]
  },
  {
   "cell_type": "code",
   "execution_count": 116,
   "id": "786ae1bf",
   "metadata": {
    "scrolled": false
   },
   "outputs": [
    {
     "name": "stdout",
     "output_type": "stream",
     "text": [
      "greek supermarkets have cashed in over 615 million euros in just four weeks as fear of what is yet to come led to consumers panic buying large quantities of disinfectants and food with a long shelf life\n",
      "****************************************************************************************************\n",
      "nb update:\r",
      "\r\n",
      "dr. russell begins by advising of two changes:\r",
      "\r\n",
      "-wearing non-medical masks\r",
      "\r\n",
      "-broadening the scope of testing\r",
      "\r\n",
      "\r",
      "\r\n",
      "@ctvatlantic\n",
      "****************************************************************************************************\n",
      "this surge in renewable generation worked with low demand, following the closure of factories and workplaces due to the lockdown caused by the covid-19 pandemic. https://t.co/9cyfwqwtqv\n",
      "****************************************************************************************************\n",
      "live blog: @arrivalist launches daily measure of u.s. consumer travel patterns\r",
      "\r\n",
      "\r",
      "\r\n",
      "https://t.co/nue9zffujy via @phocuswire #coronavirus #coronavirusupdates #covid19 #corona #coronaviruspandemic\n",
      "****************************************************************************************************\n",
      "the latest consumer warning centers on two fake medical supply companies that claim st louis area addresses and are trying to capitalize on fears gt\n",
      "****************************************************************************************************\n",
      "âthe neighbours have it now.â â&gt;\r",
      "\r\n",
      "\r",
      "\r\n",
      "#coronacrisisuk #covid?19 #covid_19 #coronaviruspandemic #coronacrisis #coronavirus #corona #coronavirusupdates #coronavirusoutbreak #panicbuying #uklockdown #lockdown #london #breakingnews #memes #panicbuying #toiletpaper #toiletpaperapocalypse https://t.co/ku1kx5gyiw\n",
      "****************************************************************************************************\n",
      "my mother is a real life angel we live in a neighborhood where it s mostly occupied by old people amp she went for a walk around this morning asking each house that she knew old people lived in if they need anything from the supermarket so they re at less of a risk for covid 19\n",
      "****************************************************************************************************\n",
      "there is no delivery date at ralph's/instacart at this time, like, none whatsoever, so... i'm trying to figure out how to get food at home to help my mom out at this moment.\r",
      "\r\n",
      "\r",
      "\r\n",
      "wondering if panic buying or just rush of internet orders because covid-19. https://t.co/ibrsqydxka\n",
      "****************************************************************************************************\n",
      "#shoppers at the #costco in #birmingham queue around the store to stock up in the wake of the #coronavirus. \r",
      "\r\n",
      "\r",
      "\r\n",
      "shame!  look how the #swiss population is behaving.\r",
      "\r\n",
      "\r",
      "\r\n",
      "https://t.co/cgasfsiikk...\r",
      "\r\n",
      "https://t.co/ovaovb7nky\n",
      "****************************************************************************************************\n",
      "does it count if @realdonaldtrump calls you an âhonorableâ person? #trumpvirus #stophoarding #coronavirus\n",
      "****************************************************************************************************\n"
     ]
    }
   ],
   "source": [
    "for sent in train_df[\"OriginalTweet\"][idxs].values:\n",
    "    print(sent)\n",
    "    print(\"*\"*100)"
   ]
  },
  {
   "cell_type": "markdown",
   "id": "804cce79",
   "metadata": {},
   "source": [
    "1. Remove web addresses\n",
    "2. Extract hashtags and @ tags\n",
    "3. decontract\n",
    "4. Remove punctuation\n",
    "5. Remove emojis\n",
    "6. Remove new lines, tabs, extra spaces"
   ]
  },
  {
   "cell_type": "code",
   "execution_count": 174,
   "id": "7678eea5",
   "metadata": {},
   "outputs": [],
   "source": [
    "s = \"there is no delivery date at ralph's/instacart at this time, like, none whatsoever, so... i'm trying to figure out how to get food at home to help my mom out at this moment.wondering if panic buying or just rush of internet orders because covid-19. https://t.co/ibrsqydxka\""
   ]
  },
  {
   "cell_type": "code",
   "execution_count": 175,
   "id": "a9c1e2a4",
   "metadata": {},
   "outputs": [
    {
     "data": {
      "text/plain": [
       "\"there is no delivery date at ralph's/instacart at this time, like, none whatsoever, so... i'm trying to figure out how to get food at home to help my mom out at this moment.wondering if panic buying or just rush of internet orders because covid-19. https://t.co/ibrsqydxka\""
      ]
     },
     "execution_count": 175,
     "metadata": {},
     "output_type": "execute_result"
    }
   ],
   "source": [
    "s"
   ]
  },
  {
   "cell_type": "code",
   "execution_count": 176,
   "id": "71e44609",
   "metadata": {},
   "outputs": [
    {
     "data": {
      "text/plain": [
       "\"there is no delivery date at ralph's/instacart at this time, like, none whatsoever, so... i'm trying to figure out how to get food at home to help my mom out at this moment.wondering if panic buying or just rush of internet orders because covid-19. \""
      ]
     },
     "execution_count": 176,
     "metadata": {},
     "output_type": "execute_result"
    }
   ],
   "source": []
  },
  {
   "cell_type": "code",
   "execution_count": null,
   "id": "970e4c81",
   "metadata": {},
   "outputs": [],
   "source": []
  },
  {
   "cell_type": "code",
   "execution_count": 122,
   "id": "f86c125f",
   "metadata": {},
   "outputs": [
    {
     "data": {
      "text/plain": [
       "'there is no delivery date at ralphsinstacart at this time like none whatsoever so im trying to figure out how to get food at home to help my mom out at this momentwondering if panic buying or just rush of internet orders because covid19 httpstcoibrsqydxka'"
      ]
     },
     "execution_count": 122,
     "metadata": {},
     "output_type": "execute_result"
    }
   ],
   "source": [
    "# ony keeps alpha numeric\n",
    "re.sub(r'[^A-Za-z0-9 ]+', '', s)"
   ]
  },
  {
   "cell_type": "code",
   "execution_count": 130,
   "id": "186b115f",
   "metadata": {},
   "outputs": [],
   "source": [
    "s = \"does it count if @realdonaldtrump calls you an âhonorableâ person? #trumpvirus #stophoarding #coronavirus\""
   ]
  },
  {
   "cell_type": "code",
   "execution_count": 131,
   "id": "b5bee723",
   "metadata": {},
   "outputs": [],
   "source": [
    "def extract_hashtags(s):\n",
    "    hashtags = re.findall(r\"#(\\w+)\", s)\n",
    "    ats = re.findall(r\"@(\\w+)\", s)\n",
    "    return hashtags, ats"
   ]
  },
  {
   "cell_type": "code",
   "execution_count": 132,
   "id": "99e5c6e5",
   "metadata": {},
   "outputs": [
    {
     "data": {
      "text/plain": [
       "'does it count if @realdonaldtrump calls you an â\\x91honorableâ\\x92 person? #trumpvirus #stophoarding #coronavirus'"
      ]
     },
     "execution_count": 132,
     "metadata": {},
     "output_type": "execute_result"
    }
   ],
   "source": [
    "s"
   ]
  },
  {
   "cell_type": "code",
   "execution_count": 133,
   "id": "b35eb290",
   "metadata": {},
   "outputs": [],
   "source": [
    "h,a = extract_hashtags(s)"
   ]
  },
  {
   "cell_type": "code",
   "execution_count": 136,
   "id": "28eda259",
   "metadata": {},
   "outputs": [
    {
     "data": {
      "text/plain": [
       "'trumpvirus,stophoarding,coronavirus'"
      ]
     },
     "execution_count": 136,
     "metadata": {},
     "output_type": "execute_result"
    }
   ],
   "source": [
    "\",\".join(h)"
   ]
  },
  {
   "cell_type": "code",
   "execution_count": 138,
   "id": "272f0f94",
   "metadata": {},
   "outputs": [
    {
     "data": {
      "text/plain": [
       "'realdonaldtrump'"
      ]
     },
     "execution_count": 138,
     "metadata": {},
     "output_type": "execute_result"
    }
   ],
   "source": [
    "\",\".join(a)"
   ]
  },
  {
   "cell_type": "code",
   "execution_count": null,
   "id": "c280d7f8",
   "metadata": {},
   "outputs": [],
   "source": []
  },
  {
   "cell_type": "code",
   "execution_count": 141,
   "id": "50ca1fe4",
   "metadata": {},
   "outputs": [
    {
     "name": "stderr",
     "output_type": "stream",
     "text": [
      "100%|████████████████████████████████████████████████████████████████████████| 41157/41157 [00:00<00:00, 380686.53it/s]\n"
     ]
    }
   ],
   "source": [
    "tweets = train_df[\"OriginalTweet\"].values\n",
    "hashtags = []\n",
    "tags = []\n",
    "for tweet in tqdm(tweets):\n",
    "    h,a = extract_hashtags(tweet)\n",
    "    hashtags.append(\" \".join(h))\n",
    "    tags.append(\" \".join(a))\n",
    "        "
   ]
  },
  {
   "cell_type": "code",
   "execution_count": 162,
   "id": "03131ef9",
   "metadata": {},
   "outputs": [
    {
     "name": "stderr",
     "output_type": "stream",
     "text": [
      "C:\\Users\\anike\\.conda\\envs\\tf_test\\lib\\site-packages\\ipykernel_launcher.py:1: SettingWithCopyWarning: \n",
      "A value is trying to be set on a copy of a slice from a DataFrame.\n",
      "Try using .loc[row_indexer,col_indexer] = value instead\n",
      "\n",
      "See the caveats in the documentation: https://pandas.pydata.org/pandas-docs/stable/user_guide/indexing.html#returning-a-view-versus-a-copy\n",
      "  \"\"\"Entry point for launching an IPython kernel.\n",
      "C:\\Users\\anike\\.conda\\envs\\tf_test\\lib\\site-packages\\ipykernel_launcher.py:2: SettingWithCopyWarning: \n",
      "A value is trying to be set on a copy of a slice from a DataFrame.\n",
      "Try using .loc[row_indexer,col_indexer] = value instead\n",
      "\n",
      "See the caveats in the documentation: https://pandas.pydata.org/pandas-docs/stable/user_guide/indexing.html#returning-a-view-versus-a-copy\n",
      "  \n"
     ]
    }
   ],
   "source": [
    "train_df[\"hashtags\"] = hashtags\n",
    "train_df[\"tags\"] = tags"
   ]
  },
  {
   "cell_type": "code",
   "execution_count": null,
   "id": "a954b6e6",
   "metadata": {},
   "outputs": [],
   "source": []
  },
  {
   "cell_type": "code",
   "execution_count": 169,
   "id": "923ff9c9",
   "metadata": {},
   "outputs": [],
   "source": [
    "# https://stackoverflow.com/a/47091490/4084039\n",
    "import re\n",
    "\n",
    "def decontracted(phrase):\n",
    "    # specific\n",
    "    phrase = re.sub(r\"won't\", \"will not\", phrase)\n",
    "    phrase = re.sub(r\"can\\'t\", \"can not\", phrase)\n",
    "\n",
    "    # general\n",
    "    phrase = re.sub(r\"n\\'t\", \" not\", phrase)\n",
    "    phrase = re.sub(r\"\\'re\", \" are\", phrase)\n",
    "    phrase = re.sub(r\"\\'s\", \" is\", phrase)\n",
    "    phrase = re.sub(r\"\\'d\", \" would\", phrase)\n",
    "    phrase = re.sub(r\"\\'ll\", \" will\", phrase)\n",
    "    phrase = re.sub(r\"\\'t\", \" not\", phrase)\n",
    "    phrase = re.sub(r\"\\'ve\", \" have\", phrase)\n",
    "    phrase = re.sub(r\"\\'m\", \" am\", phrase)\n",
    "    return phrase"
   ]
  },
  {
   "cell_type": "code",
   "execution_count": 170,
   "id": "a02b7bba",
   "metadata": {},
   "outputs": [],
   "source": [
    "# Combining all the above stundents \n",
    "from tqdm import tqdm\n",
    "def preprocess_text(text_data):\n",
    "    preprocessed_text = []\n",
    "    # tqdm is for printing the status bar\n",
    "    for sentence in tqdm(text_data):\n",
    "        if type(sentence) != str:\n",
    "            sent = ' '\n",
    "        else:\n",
    "            sent = re.sub(r'http\\S+', '', sentence) #remove url\n",
    "            sent = decontracted(sent) #decontract\n",
    "            sent = sent.replace('\\\\r', ' ') \n",
    "            sent = sent.replace('\\\\n', ' ')\n",
    "            sent = sent.replace('\\\\\"', ' ')\n",
    "            sent = re.sub('[^A-Za-z0-9]+', ' ', sent) #remove anythong non-alphanumeric\n",
    "            \n",
    "        # https://gist.github.com/sebleier/554280\n",
    "        sent = ' '.join(e for e in sent.split())\n",
    "        preprocessed_text.append(sent.lower().strip())\n",
    "    return preprocessed_text"
   ]
  },
  {
   "cell_type": "code",
   "execution_count": 172,
   "id": "d07f32e2",
   "metadata": {},
   "outputs": [
    {
     "name": "stderr",
     "output_type": "stream",
     "text": [
      "100%|█████████████████████████████████████████████████████████████████████████| 41157/41157 [00:00<00:00, 44189.72it/s]\n"
     ]
    }
   ],
   "source": [
    "preprocessed_tweets = preprocess_text(tweets)"
   ]
  },
  {
   "cell_type": "code",
   "execution_count": 177,
   "id": "b835681f",
   "metadata": {},
   "outputs": [
    {
     "name": "stderr",
     "output_type": "stream",
     "text": [
      "C:\\Users\\anike\\.conda\\envs\\tf_test\\lib\\site-packages\\ipykernel_launcher.py:1: SettingWithCopyWarning: \n",
      "A value is trying to be set on a copy of a slice from a DataFrame.\n",
      "Try using .loc[row_indexer,col_indexer] = value instead\n",
      "\n",
      "See the caveats in the documentation: https://pandas.pydata.org/pandas-docs/stable/user_guide/indexing.html#returning-a-view-versus-a-copy\n",
      "  \"\"\"Entry point for launching an IPython kernel.\n"
     ]
    }
   ],
   "source": [
    "train_df[\"preprocessed tweets\"] = preprocessed_tweets"
   ]
  },
  {
   "cell_type": "code",
   "execution_count": 178,
   "id": "bd8a16ac",
   "metadata": {},
   "outputs": [
    {
     "data": {
      "text/html": [
       "<div>\n",
       "<style scoped>\n",
       "    .dataframe tbody tr th:only-of-type {\n",
       "        vertical-align: middle;\n",
       "    }\n",
       "\n",
       "    .dataframe tbody tr th {\n",
       "        vertical-align: top;\n",
       "    }\n",
       "\n",
       "    .dataframe thead th {\n",
       "        text-align: right;\n",
       "    }\n",
       "</style>\n",
       "<table border=\"1\" class=\"dataframe\">\n",
       "  <thead>\n",
       "    <tr style=\"text-align: right;\">\n",
       "      <th></th>\n",
       "      <th>OriginalTweet</th>\n",
       "      <th>Sentiment</th>\n",
       "      <th>hashtags</th>\n",
       "      <th>tags</th>\n",
       "      <th>preprocessed tweets</th>\n",
       "    </tr>\n",
       "  </thead>\n",
       "  <tbody>\n",
       "    <tr>\n",
       "      <th>0</th>\n",
       "      <td>@menyrbie @phil_gahan @chrisitv https://t.co/i...</td>\n",
       "      <td>Neutral</td>\n",
       "      <td></td>\n",
       "      <td>menyrbie phil_gahan chrisitv</td>\n",
       "      <td>menyrbie phil gahan chrisitv and and</td>\n",
       "    </tr>\n",
       "    <tr>\n",
       "      <th>1</th>\n",
       "      <td>advice talk to your neighbours family to excha...</td>\n",
       "      <td>Positive</td>\n",
       "      <td></td>\n",
       "      <td></td>\n",
       "      <td>advice talk to your neighbours family to excha...</td>\n",
       "    </tr>\n",
       "    <tr>\n",
       "      <th>2</th>\n",
       "      <td>coronavirus australia: woolworths to give elde...</td>\n",
       "      <td>Positive</td>\n",
       "      <td></td>\n",
       "      <td></td>\n",
       "      <td>coronavirus australia woolworths to give elder...</td>\n",
       "    </tr>\n",
       "    <tr>\n",
       "      <th>3</th>\n",
       "      <td>my food stock is not the only one which is emp...</td>\n",
       "      <td>Positive</td>\n",
       "      <td>covid19france covid_19 covid19 coronavirus con...</td>\n",
       "      <td></td>\n",
       "      <td>my food stock is not the only one which is emp...</td>\n",
       "    </tr>\n",
       "    <tr>\n",
       "      <th>4</th>\n",
       "      <td>me, ready to go at supermarket during the #cov...</td>\n",
       "      <td>Extremely Negative</td>\n",
       "      <td>covid19 coronavirus coronavirusfrance restezch...</td>\n",
       "      <td></td>\n",
       "      <td>me ready to go at supermarket during the covid...</td>\n",
       "    </tr>\n",
       "    <tr>\n",
       "      <th>...</th>\n",
       "      <td>...</td>\n",
       "      <td>...</td>\n",
       "      <td>...</td>\n",
       "      <td>...</td>\n",
       "      <td>...</td>\n",
       "    </tr>\n",
       "    <tr>\n",
       "      <th>41152</th>\n",
       "      <td>airline pilots offering to stock supermarket s...</td>\n",
       "      <td>Neutral</td>\n",
       "      <td>nz covid</td>\n",
       "      <td></td>\n",
       "      <td>airline pilots offering to stock supermarket s...</td>\n",
       "    </tr>\n",
       "    <tr>\n",
       "      <th>41153</th>\n",
       "      <td>response to complaint not provided citing covi...</td>\n",
       "      <td>Extremely Negative</td>\n",
       "      <td></td>\n",
       "      <td></td>\n",
       "      <td>response to complaint not provided citing covi...</td>\n",
       "    </tr>\n",
       "    <tr>\n",
       "      <th>41154</th>\n",
       "      <td>you know itâs getting tough when @kameronwild...</td>\n",
       "      <td>Positive</td>\n",
       "      <td>coronavirus toiletpaper</td>\n",
       "      <td>kameronwilds kroger</td>\n",
       "      <td>you know it s getting tough when kameronwilds ...</td>\n",
       "    </tr>\n",
       "    <tr>\n",
       "      <th>41155</th>\n",
       "      <td>is it wrong that the smell of hand sanitizer i...</td>\n",
       "      <td>Neutral</td>\n",
       "      <td>coronavirus covid19 coronavirus</td>\n",
       "      <td></td>\n",
       "      <td>is it wrong that the smell of hand sanitizer i...</td>\n",
       "    </tr>\n",
       "    <tr>\n",
       "      <th>41156</th>\n",
       "      <td>@tartiicat well new/used rift s are going for ...</td>\n",
       "      <td>Negative</td>\n",
       "      <td></td>\n",
       "      <td>tartiicat</td>\n",
       "      <td>tartiicat well new used rift s are going for 7...</td>\n",
       "    </tr>\n",
       "  </tbody>\n",
       "</table>\n",
       "<p>41157 rows × 5 columns</p>\n",
       "</div>"
      ],
      "text/plain": [
       "                                           OriginalTweet           Sentiment  \\\n",
       "0      @menyrbie @phil_gahan @chrisitv https://t.co/i...             Neutral   \n",
       "1      advice talk to your neighbours family to excha...            Positive   \n",
       "2      coronavirus australia: woolworths to give elde...            Positive   \n",
       "3      my food stock is not the only one which is emp...            Positive   \n",
       "4      me, ready to go at supermarket during the #cov...  Extremely Negative   \n",
       "...                                                  ...                 ...   \n",
       "41152  airline pilots offering to stock supermarket s...             Neutral   \n",
       "41153  response to complaint not provided citing covi...  Extremely Negative   \n",
       "41154  you know itâs getting tough when @kameronwild...            Positive   \n",
       "41155  is it wrong that the smell of hand sanitizer i...             Neutral   \n",
       "41156  @tartiicat well new/used rift s are going for ...            Negative   \n",
       "\n",
       "                                                hashtags  \\\n",
       "0                                                          \n",
       "1                                                          \n",
       "2                                                          \n",
       "3      covid19france covid_19 covid19 coronavirus con...   \n",
       "4      covid19 coronavirus coronavirusfrance restezch...   \n",
       "...                                                  ...   \n",
       "41152                                           nz covid   \n",
       "41153                                                      \n",
       "41154                            coronavirus toiletpaper   \n",
       "41155                    coronavirus covid19 coronavirus   \n",
       "41156                                                      \n",
       "\n",
       "                               tags  \\\n",
       "0      menyrbie phil_gahan chrisitv   \n",
       "1                                     \n",
       "2                                     \n",
       "3                                     \n",
       "4                                     \n",
       "...                             ...   \n",
       "41152                                 \n",
       "41153                                 \n",
       "41154           kameronwilds kroger   \n",
       "41155                                 \n",
       "41156                     tartiicat   \n",
       "\n",
       "                                     preprocessed tweets  \n",
       "0                   menyrbie phil gahan chrisitv and and  \n",
       "1      advice talk to your neighbours family to excha...  \n",
       "2      coronavirus australia woolworths to give elder...  \n",
       "3      my food stock is not the only one which is emp...  \n",
       "4      me ready to go at supermarket during the covid...  \n",
       "...                                                  ...  \n",
       "41152  airline pilots offering to stock supermarket s...  \n",
       "41153  response to complaint not provided citing covi...  \n",
       "41154  you know it s getting tough when kameronwilds ...  \n",
       "41155  is it wrong that the smell of hand sanitizer i...  \n",
       "41156  tartiicat well new used rift s are going for 7...  \n",
       "\n",
       "[41157 rows x 5 columns]"
      ]
     },
     "execution_count": 178,
     "metadata": {},
     "output_type": "execute_result"
    }
   ],
   "source": [
    "train_df"
   ]
  },
  {
   "cell_type": "code",
   "execution_count": null,
   "id": "a3617af2",
   "metadata": {},
   "outputs": [],
   "source": []
  }
 ],
 "metadata": {
  "kernelspec": {
   "display_name": "tf_test",
   "language": "python",
   "name": "tf_test"
  },
  "language_info": {
   "codemirror_mode": {
    "name": "ipython",
    "version": 3
   },
   "file_extension": ".py",
   "mimetype": "text/x-python",
   "name": "python",
   "nbconvert_exporter": "python",
   "pygments_lexer": "ipython3",
   "version": "3.6.13"
  }
 },
 "nbformat": 4,
 "nbformat_minor": 5
}
